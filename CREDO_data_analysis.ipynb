{
  "cells": [
    {
      "cell_type": "markdown",
      "metadata": {
        "id": "S__Q8Nwq4_dF"
      },
      "source": [
        "# CREDO - wstęp do pracy z danymi\n",
        "\n",
        "## Czym jest CREDO?\n",
        "CREDO (Cosmic-Ray Extremely Distributed Observatory), czyli Skrajnie Rozproszone Obserwatorium Promieniowania Kosmicznego. To projekt zapoczątkowany przez polskich naukowców z Instytutu Fizyki Jądrowej PAN w Krakowie. Projekt ma na celu  wykorzystywanie telefonów oraz tabletów do stworzenia globalnej sieci detektorów promieniowania kosmicznego - cząstek pochodzących z kosmosu oraz powstałych na skutek ich interakcji z atmosferą.\n",
        "\n",
        "## Do czego służy ten notatnik?\n",
        "\n",
        "Poniższy notatnik ma za zadanie przybliżyć ci jak wygląda praca z danymi zebranymi przez telefony wielu osób, w tym również twój.\n",
        "\n",
        "## Jak korzystać z tego notatnika?\n",
        "Poniżej znajdują się komórki, które dzielą się na dwa typy:\n",
        "* **zawierające kod w pythonie** - kod w tych komórkach trzeba zmodyfikować lub napisać prosty fragment kodu, a następnie skompilować wciskają `Shift+Enter`,\n",
        "* **zawierające tekst** - w tych komórkach znajduje się tekst mający za zadanie wyjaśnić ci, co zrobić, wyjaśnić co robimy oraz zadać dodatkowe pytania."
      ]
    },
    {
      "cell_type": "markdown",
      "metadata": {
        "id": "a5fzDTu04_dH"
      },
      "source": [
        "No dobrze to zacznijmy naszą pracę z kodem. Naszym pierwszym krokiem będzie zaimportowanie bibliotek, których będziemy potrzebować do pracy z danymi oraz ich wizualizacji. Możecie myśleć o bibliotekach w programowaniu jako zbiór komend, które pozwalają nam działać na danych. Te biblioteki to:\n",
        "* pandas - jest to biblioteka przeznaczona do pracy z danymi,\n",
        "* json - ta bibliotek jest nam potrzebna do odczytania pliku z danymi,\n",
        "* matplotlib.pyplot - jest to bibliotek przeznaczona do wizualizacji danych (tworzenie wykresów, histogramów itp.),\n",
        "* plotly.express -  ta biblioteka pozwoli nam nanieść dane na mapę świata w adekwatnej lokacji.\n",
        "\n",
        "Poniżej w kodzie importujemy taką bibliotek jako np `import plotly.express as px` - ta składnia oznacza pobierz mi bibliotekę plotly.express (import plotly.express), którą później w kodzie będę nazywał px (as px).\n",
        "\n",
        "Jeżeli po próbie kompilacji kodu otrzymuje błąd, że nie mamy takiej biblioteki należy w komórce kodu umieścić komendę `pip install *nazwa biblioteki*`, a następnie skompilować kod."
      ]
    },
    {
      "cell_type": "code",
      "execution_count": 1,
      "metadata": {
        "id": "RzF7ezzy4_dH"
      },
      "outputs": [],
      "source": [
        "import pandas as pd\n",
        "import json\n",
        "import matplotlib.pyplot as plt"
      ]
    },
    {
      "cell_type": "markdown",
      "source": [
        "Wykorzystując poniższą komórkę możemy pobrać pliki zawierające funkcje stworzone specjalnie do tej analizy. Następnie tworzymy bibliotekę z tego pliku."
      ],
      "metadata": {
        "id": "qd5m91QK6R9t"
      }
    },
    {
      "cell_type": "code",
      "source": [
        "!wget https://raw.githubusercontent.com/Bart-Iz/CRED_education/refs/heads/Beta/CREDO/CREDO_functions.py -P /content/CREDO -P /content/CREDO\n",
        "!wget https://raw.githubusercontent.com/Bart-Iz/CRED_education/refs/heads/Beta/CREDO/team_mapping.json -P /content/CREDO -P /content/CREDO\n",
        "!wget https://raw.githubusercontent.com/Bart-Iz/CRED_education/refs/heads/Beta/CREDO/user_mapping.json -P /content/CREDO -P /content/CREDO"
      ],
      "metadata": {
        "colab": {
          "base_uri": "https://localhost:8080/"
        },
        "id": "40Pm7Uor6IxU",
        "outputId": "d4494390-d952-4c6c-d92d-7102a9818217"
      },
      "execution_count": 26,
      "outputs": [
        {
          "output_type": "stream",
          "name": "stdout",
          "text": [
            "--2024-12-10 10:36:03--  https://raw.githubusercontent.com/Bart-Iz/CRED_education/refs/heads/Beta/CREDO/CREDO_functions.py\n",
            "Resolving raw.githubusercontent.com (raw.githubusercontent.com)... 185.199.109.133, 185.199.111.133, 185.199.108.133, ...\n",
            "Connecting to raw.githubusercontent.com (raw.githubusercontent.com)|185.199.109.133|:443... connected.\n",
            "HTTP request sent, awaiting response... 200 OK\n",
            "Length: 3588 (3.5K) [text/plain]\n",
            "Saving to: ‘/content/CREDO/CREDO_functions.py’\n",
            "\n",
            "CREDO_functions.py  100%[===================>]   3.50K  --.-KB/s    in 0s      \n",
            "\n",
            "2024-12-10 10:36:03 (49.6 MB/s) - ‘/content/CREDO/CREDO_functions.py’ saved [3588/3588]\n",
            "\n",
            "--2024-12-10 10:36:03--  https://raw.githubusercontent.com/Bart-Iz/CRED_education/refs/heads/Beta/CREDO/team_mapping.json\n",
            "Resolving raw.githubusercontent.com (raw.githubusercontent.com)... 185.199.109.133, 185.199.110.133, 185.199.108.133, ...\n",
            "Connecting to raw.githubusercontent.com (raw.githubusercontent.com)|185.199.109.133|:443... connected.\n",
            "HTTP request sent, awaiting response... 200 OK\n",
            "Length: 696857 (681K) [text/plain]\n",
            "Saving to: ‘/content/CREDO/team_mapping.json’\n",
            "\n",
            "team_mapping.json   100%[===================>] 680.52K  2.93MB/s    in 0.2s    \n",
            "\n",
            "2024-12-10 10:36:04 (2.93 MB/s) - ‘/content/CREDO/team_mapping.json’ saved [696857/696857]\n",
            "\n",
            "--2024-12-10 10:36:04--  https://raw.githubusercontent.com/Bart-Iz/CRED_education/refs/heads/Beta/CREDO/user_mapping.json\n",
            "Resolving raw.githubusercontent.com (raw.githubusercontent.com)... 185.199.111.133, 185.199.109.133, 185.199.110.133, ...\n",
            "Connecting to raw.githubusercontent.com (raw.githubusercontent.com)|185.199.111.133|:443... connected.\n",
            "HTTP request sent, awaiting response... 200 OK\n",
            "Length: 2513145 (2.4M) [text/plain]\n",
            "Saving to: ‘/content/CREDO/user_mapping.json’\n",
            "\n",
            "user_mapping.json   100%[===================>]   2.40M  8.08MB/s    in 0.3s    \n",
            "\n",
            "2024-12-10 10:36:05 (8.08 MB/s) - ‘/content/CREDO/user_mapping.json’ saved [2513145/2513145]\n",
            "\n"
          ]
        }
      ]
    },
    {
      "cell_type": "code",
      "source": [
        "import importlib\n",
        "import sys\n",
        "sys.path.append(\"/content/CREDO/\")\n",
        "\n",
        "import CREDO_functions as cf\n",
        "importlib.reload(cf)"
      ],
      "metadata": {
        "colab": {
          "base_uri": "https://localhost:8080/"
        },
        "id": "s1VX6iNl68-U",
        "outputId": "66f01f7b-cc3d-4667-ec0c-15ad77cab794"
      },
      "execution_count": 48,
      "outputs": [
        {
          "output_type": "execute_result",
          "data": {
            "text/plain": [
              "<module 'CREDO_functions' from '/content/CREDO/CREDO_functions.py'>"
            ]
          },
          "metadata": {},
          "execution_count": 48
        }
      ]
    },
    {
      "cell_type": "markdown",
      "metadata": {
        "id": "Ph_1PabT4_dI"
      },
      "source": [
        "Skoro już załadowaliśmy potrzebne biblioteki to teraz musimy załadować dane. Można je pobrać bezpośrednio ze strony CREDO lub z korzystając z tego linku:\n",
        "https://drive.google.com/drive/folders/1r9JEmCsWh67AGbC_M4atY95YtNFjRT_q?usp=sharing\n",
        "\n",
        "Pobrany plik należy załadować do naszego notatnika collaboratory używając opcji \"prześlij do pamięci sesji\" lub po prostu przeciągając plik.\n",
        "\n",
        "W celu odczytania danych z pliku użyj funkcji read_data z biblioteki CREDO_functions. Ta funkcja jako zmiennej potrzebuje ścieżki do pliku z danymi, a zwraca nam tabelę z danymi, którą poniższy kod oznacza jako df (skrót od DataFrame). Ta funkcja odrzuca też niektóre zbędne dla nas dane oraz przelicza też dane z jednostek UNIX na czas, który jest łatwiejszy dla nas do odczytania."
      ]
    },
    {
      "cell_type": "code",
      "execution_count": 59,
      "metadata": {
        "id": "h1OjHTyv4_dI"
      },
      "outputs": [],
      "source": [
        "df = cf.read_data('/content/export_credo.json')"
      ]
    },
    {
      "cell_type": "markdown",
      "source": [
        "## Od czego zacząć analizę?\n",
        "Pierwszym krokiem jaki musimy wykonać podczas pracy z danymi jest oczywiście dowiedzenie się z jakimi danymi właściwie pracujemy. Jedną z zalet obiektów typu dataFrame tworzonych przy użyciu biblioteki pandas jest to, że sortuje on nam dane na kolumny, które zawierają określone dane (np. czas albo długość i szerokość geograficzną) i każdy zestaw danych z jednego odczytu (pojedynczej detekcji) znajdują się w jednym wierszu.\n",
        "\n",
        "Metodą jaką możemy użyć aby przyjrzeć się naszym danym jest .describe,\n",
        " która podane nam dane statystyczne dla każdej kolumny takie jak ilość wierszy, wartość średnia oraz odchylenie standardowe. W google collab klikając obrazek wykresu obok powstałej tabeli możemy zobaczyć histogramy poszczególnych kolumn.\n",
        "\n",
        "Jeżeli chcemy przyjrzeć się bezpośrednio wierszom możemy użyć .head(n), które wypisze nam n pierwszych wierszy lub używając bezpośrednio komendy print().\n",
        "\n",
        "Sprawdź dane za pomocą obydwu metod."
      ],
      "metadata": {
        "id": "E7r_0SI_A6TD"
      }
    },
    {
      "cell_type": "code",
      "source": [
        "df.describe()"
      ],
      "metadata": {
        "colab": {
          "base_uri": "https://localhost:8080/",
          "height": 300
        },
        "id": "LOh58tPQDnaM",
        "outputId": "5066c9ff-ee56-4198-d4c3-6771afdcbd89"
      },
      "execution_count": 60,
      "outputs": [
        {
          "output_type": "execute_result",
          "data": {
            "text/plain": [
              "            precyzja       wysokość      szerokość  szerokość_geo  \\\n",
              "count  100000.000000  100000.000000  100000.000000  100000.000000   \n",
              "mean       60.824292     598.114080     847.249920      37.335878   \n",
              "std       306.420454     127.052993     124.753828      23.887474   \n",
              "min         0.000000     144.000000     208.000000     -32.616698   \n",
              "25%         0.000000     480.000000     800.000000       0.000000   \n",
              "50%        18.203999     600.000000     800.000000      52.208069   \n",
              "75%        47.000000     720.000000     960.000000      53.650806   \n",
              "max     20148.719000    1536.000000    2048.000000      60.386205   \n",
              "\n",
              "             długość    id_telefonu  \n",
              "count  100000.000000  100000.000000  \n",
              "mean       12.024327      95.108980  \n",
              "std        12.424812     148.516171  \n",
              "min      -122.778539       1.000000  \n",
              "25%         0.000000      13.000000  \n",
              "50%        18.722570      28.000000  \n",
              "75%        18.732369      87.000000  \n",
              "max        99.793387     623.000000  "
            ],
            "text/html": [
              "\n",
              "  <div id=\"df-23f78983-ede9-4852-8868-b912039c510f\" class=\"colab-df-container\">\n",
              "    <div>\n",
              "<style scoped>\n",
              "    .dataframe tbody tr th:only-of-type {\n",
              "        vertical-align: middle;\n",
              "    }\n",
              "\n",
              "    .dataframe tbody tr th {\n",
              "        vertical-align: top;\n",
              "    }\n",
              "\n",
              "    .dataframe thead th {\n",
              "        text-align: right;\n",
              "    }\n",
              "</style>\n",
              "<table border=\"1\" class=\"dataframe\">\n",
              "  <thead>\n",
              "    <tr style=\"text-align: right;\">\n",
              "      <th></th>\n",
              "      <th>precyzja</th>\n",
              "      <th>wysokość</th>\n",
              "      <th>szerokość</th>\n",
              "      <th>szerokość_geo</th>\n",
              "      <th>długość</th>\n",
              "      <th>id_telefonu</th>\n",
              "    </tr>\n",
              "  </thead>\n",
              "  <tbody>\n",
              "    <tr>\n",
              "      <th>count</th>\n",
              "      <td>100000.000000</td>\n",
              "      <td>100000.000000</td>\n",
              "      <td>100000.000000</td>\n",
              "      <td>100000.000000</td>\n",
              "      <td>100000.000000</td>\n",
              "      <td>100000.000000</td>\n",
              "    </tr>\n",
              "    <tr>\n",
              "      <th>mean</th>\n",
              "      <td>60.824292</td>\n",
              "      <td>598.114080</td>\n",
              "      <td>847.249920</td>\n",
              "      <td>37.335878</td>\n",
              "      <td>12.024327</td>\n",
              "      <td>95.108980</td>\n",
              "    </tr>\n",
              "    <tr>\n",
              "      <th>std</th>\n",
              "      <td>306.420454</td>\n",
              "      <td>127.052993</td>\n",
              "      <td>124.753828</td>\n",
              "      <td>23.887474</td>\n",
              "      <td>12.424812</td>\n",
              "      <td>148.516171</td>\n",
              "    </tr>\n",
              "    <tr>\n",
              "      <th>min</th>\n",
              "      <td>0.000000</td>\n",
              "      <td>144.000000</td>\n",
              "      <td>208.000000</td>\n",
              "      <td>-32.616698</td>\n",
              "      <td>-122.778539</td>\n",
              "      <td>1.000000</td>\n",
              "    </tr>\n",
              "    <tr>\n",
              "      <th>25%</th>\n",
              "      <td>0.000000</td>\n",
              "      <td>480.000000</td>\n",
              "      <td>800.000000</td>\n",
              "      <td>0.000000</td>\n",
              "      <td>0.000000</td>\n",
              "      <td>13.000000</td>\n",
              "    </tr>\n",
              "    <tr>\n",
              "      <th>50%</th>\n",
              "      <td>18.203999</td>\n",
              "      <td>600.000000</td>\n",
              "      <td>800.000000</td>\n",
              "      <td>52.208069</td>\n",
              "      <td>18.722570</td>\n",
              "      <td>28.000000</td>\n",
              "    </tr>\n",
              "    <tr>\n",
              "      <th>75%</th>\n",
              "      <td>47.000000</td>\n",
              "      <td>720.000000</td>\n",
              "      <td>960.000000</td>\n",
              "      <td>53.650806</td>\n",
              "      <td>18.732369</td>\n",
              "      <td>87.000000</td>\n",
              "    </tr>\n",
              "    <tr>\n",
              "      <th>max</th>\n",
              "      <td>20148.719000</td>\n",
              "      <td>1536.000000</td>\n",
              "      <td>2048.000000</td>\n",
              "      <td>60.386205</td>\n",
              "      <td>99.793387</td>\n",
              "      <td>623.000000</td>\n",
              "    </tr>\n",
              "  </tbody>\n",
              "</table>\n",
              "</div>\n",
              "    <div class=\"colab-df-buttons\">\n",
              "\n",
              "  <div class=\"colab-df-container\">\n",
              "    <button class=\"colab-df-convert\" onclick=\"convertToInteractive('df-23f78983-ede9-4852-8868-b912039c510f')\"\n",
              "            title=\"Convert this dataframe to an interactive table.\"\n",
              "            style=\"display:none;\">\n",
              "\n",
              "  <svg xmlns=\"http://www.w3.org/2000/svg\" height=\"24px\" viewBox=\"0 -960 960 960\">\n",
              "    <path d=\"M120-120v-720h720v720H120Zm60-500h600v-160H180v160Zm220 220h160v-160H400v160Zm0 220h160v-160H400v160ZM180-400h160v-160H180v160Zm440 0h160v-160H620v160ZM180-180h160v-160H180v160Zm440 0h160v-160H620v160Z\"/>\n",
              "  </svg>\n",
              "    </button>\n",
              "\n",
              "  <style>\n",
              "    .colab-df-container {\n",
              "      display:flex;\n",
              "      gap: 12px;\n",
              "    }\n",
              "\n",
              "    .colab-df-convert {\n",
              "      background-color: #E8F0FE;\n",
              "      border: none;\n",
              "      border-radius: 50%;\n",
              "      cursor: pointer;\n",
              "      display: none;\n",
              "      fill: #1967D2;\n",
              "      height: 32px;\n",
              "      padding: 0 0 0 0;\n",
              "      width: 32px;\n",
              "    }\n",
              "\n",
              "    .colab-df-convert:hover {\n",
              "      background-color: #E2EBFA;\n",
              "      box-shadow: 0px 1px 2px rgba(60, 64, 67, 0.3), 0px 1px 3px 1px rgba(60, 64, 67, 0.15);\n",
              "      fill: #174EA6;\n",
              "    }\n",
              "\n",
              "    .colab-df-buttons div {\n",
              "      margin-bottom: 4px;\n",
              "    }\n",
              "\n",
              "    [theme=dark] .colab-df-convert {\n",
              "      background-color: #3B4455;\n",
              "      fill: #D2E3FC;\n",
              "    }\n",
              "\n",
              "    [theme=dark] .colab-df-convert:hover {\n",
              "      background-color: #434B5C;\n",
              "      box-shadow: 0px 1px 3px 1px rgba(0, 0, 0, 0.15);\n",
              "      filter: drop-shadow(0px 1px 2px rgba(0, 0, 0, 0.3));\n",
              "      fill: #FFFFFF;\n",
              "    }\n",
              "  </style>\n",
              "\n",
              "    <script>\n",
              "      const buttonEl =\n",
              "        document.querySelector('#df-23f78983-ede9-4852-8868-b912039c510f button.colab-df-convert');\n",
              "      buttonEl.style.display =\n",
              "        google.colab.kernel.accessAllowed ? 'block' : 'none';\n",
              "\n",
              "      async function convertToInteractive(key) {\n",
              "        const element = document.querySelector('#df-23f78983-ede9-4852-8868-b912039c510f');\n",
              "        const dataTable =\n",
              "          await google.colab.kernel.invokeFunction('convertToInteractive',\n",
              "                                                    [key], {});\n",
              "        if (!dataTable) return;\n",
              "\n",
              "        const docLinkHtml = 'Like what you see? Visit the ' +\n",
              "          '<a target=\"_blank\" href=https://colab.research.google.com/notebooks/data_table.ipynb>data table notebook</a>'\n",
              "          + ' to learn more about interactive tables.';\n",
              "        element.innerHTML = '';\n",
              "        dataTable['output_type'] = 'display_data';\n",
              "        await google.colab.output.renderOutput(dataTable, element);\n",
              "        const docLink = document.createElement('div');\n",
              "        docLink.innerHTML = docLinkHtml;\n",
              "        element.appendChild(docLink);\n",
              "      }\n",
              "    </script>\n",
              "  </div>\n",
              "\n",
              "\n",
              "<div id=\"df-65033a2b-278a-4b06-8af6-3d61da7b51bf\">\n",
              "  <button class=\"colab-df-quickchart\" onclick=\"quickchart('df-65033a2b-278a-4b06-8af6-3d61da7b51bf')\"\n",
              "            title=\"Suggest charts\"\n",
              "            style=\"display:none;\">\n",
              "\n",
              "<svg xmlns=\"http://www.w3.org/2000/svg\" height=\"24px\"viewBox=\"0 0 24 24\"\n",
              "     width=\"24px\">\n",
              "    <g>\n",
              "        <path d=\"M19 3H5c-1.1 0-2 .9-2 2v14c0 1.1.9 2 2 2h14c1.1 0 2-.9 2-2V5c0-1.1-.9-2-2-2zM9 17H7v-7h2v7zm4 0h-2V7h2v10zm4 0h-2v-4h2v4z\"/>\n",
              "    </g>\n",
              "</svg>\n",
              "  </button>\n",
              "\n",
              "<style>\n",
              "  .colab-df-quickchart {\n",
              "      --bg-color: #E8F0FE;\n",
              "      --fill-color: #1967D2;\n",
              "      --hover-bg-color: #E2EBFA;\n",
              "      --hover-fill-color: #174EA6;\n",
              "      --disabled-fill-color: #AAA;\n",
              "      --disabled-bg-color: #DDD;\n",
              "  }\n",
              "\n",
              "  [theme=dark] .colab-df-quickchart {\n",
              "      --bg-color: #3B4455;\n",
              "      --fill-color: #D2E3FC;\n",
              "      --hover-bg-color: #434B5C;\n",
              "      --hover-fill-color: #FFFFFF;\n",
              "      --disabled-bg-color: #3B4455;\n",
              "      --disabled-fill-color: #666;\n",
              "  }\n",
              "\n",
              "  .colab-df-quickchart {\n",
              "    background-color: var(--bg-color);\n",
              "    border: none;\n",
              "    border-radius: 50%;\n",
              "    cursor: pointer;\n",
              "    display: none;\n",
              "    fill: var(--fill-color);\n",
              "    height: 32px;\n",
              "    padding: 0;\n",
              "    width: 32px;\n",
              "  }\n",
              "\n",
              "  .colab-df-quickchart:hover {\n",
              "    background-color: var(--hover-bg-color);\n",
              "    box-shadow: 0 1px 2px rgba(60, 64, 67, 0.3), 0 1px 3px 1px rgba(60, 64, 67, 0.15);\n",
              "    fill: var(--button-hover-fill-color);\n",
              "  }\n",
              "\n",
              "  .colab-df-quickchart-complete:disabled,\n",
              "  .colab-df-quickchart-complete:disabled:hover {\n",
              "    background-color: var(--disabled-bg-color);\n",
              "    fill: var(--disabled-fill-color);\n",
              "    box-shadow: none;\n",
              "  }\n",
              "\n",
              "  .colab-df-spinner {\n",
              "    border: 2px solid var(--fill-color);\n",
              "    border-color: transparent;\n",
              "    border-bottom-color: var(--fill-color);\n",
              "    animation:\n",
              "      spin 1s steps(1) infinite;\n",
              "  }\n",
              "\n",
              "  @keyframes spin {\n",
              "    0% {\n",
              "      border-color: transparent;\n",
              "      border-bottom-color: var(--fill-color);\n",
              "      border-left-color: var(--fill-color);\n",
              "    }\n",
              "    20% {\n",
              "      border-color: transparent;\n",
              "      border-left-color: var(--fill-color);\n",
              "      border-top-color: var(--fill-color);\n",
              "    }\n",
              "    30% {\n",
              "      border-color: transparent;\n",
              "      border-left-color: var(--fill-color);\n",
              "      border-top-color: var(--fill-color);\n",
              "      border-right-color: var(--fill-color);\n",
              "    }\n",
              "    40% {\n",
              "      border-color: transparent;\n",
              "      border-right-color: var(--fill-color);\n",
              "      border-top-color: var(--fill-color);\n",
              "    }\n",
              "    60% {\n",
              "      border-color: transparent;\n",
              "      border-right-color: var(--fill-color);\n",
              "    }\n",
              "    80% {\n",
              "      border-color: transparent;\n",
              "      border-right-color: var(--fill-color);\n",
              "      border-bottom-color: var(--fill-color);\n",
              "    }\n",
              "    90% {\n",
              "      border-color: transparent;\n",
              "      border-bottom-color: var(--fill-color);\n",
              "    }\n",
              "  }\n",
              "</style>\n",
              "\n",
              "  <script>\n",
              "    async function quickchart(key) {\n",
              "      const quickchartButtonEl =\n",
              "        document.querySelector('#' + key + ' button');\n",
              "      quickchartButtonEl.disabled = true;  // To prevent multiple clicks.\n",
              "      quickchartButtonEl.classList.add('colab-df-spinner');\n",
              "      try {\n",
              "        const charts = await google.colab.kernel.invokeFunction(\n",
              "            'suggestCharts', [key], {});\n",
              "      } catch (error) {\n",
              "        console.error('Error during call to suggestCharts:', error);\n",
              "      }\n",
              "      quickchartButtonEl.classList.remove('colab-df-spinner');\n",
              "      quickchartButtonEl.classList.add('colab-df-quickchart-complete');\n",
              "    }\n",
              "    (() => {\n",
              "      let quickchartButtonEl =\n",
              "        document.querySelector('#df-65033a2b-278a-4b06-8af6-3d61da7b51bf button');\n",
              "      quickchartButtonEl.style.display =\n",
              "        google.colab.kernel.accessAllowed ? 'block' : 'none';\n",
              "    })();\n",
              "  </script>\n",
              "</div>\n",
              "\n",
              "    </div>\n",
              "  </div>\n"
            ],
            "application/vnd.google.colaboratory.intrinsic+json": {
              "type": "dataframe",
              "summary": "{\n  \"name\": \"df\",\n  \"rows\": 8,\n  \"fields\": [\n    {\n      \"column\": \"precyzja\",\n      \"properties\": {\n        \"dtype\": \"number\",\n        \"std\": 35027.73137911209,\n        \"min\": 0.0,\n        \"max\": 100000.0,\n        \"num_unique_values\": 7,\n        \"samples\": [\n          100000.0,\n          60.824292085451,\n          47.0\n        ],\n        \"semantic_type\": \"\",\n        \"description\": \"\"\n      }\n    },\n    {\n      \"column\": \"wysoko\\u015b\\u0107\",\n      \"properties\": {\n        \"dtype\": \"number\",\n        \"std\": 35145.66242148845,\n        \"min\": 127.0529933940871,\n        \"max\": 100000.0,\n        \"num_unique_values\": 8,\n        \"samples\": [\n          598.11408,\n          600.0,\n          100000.0\n        ],\n        \"semantic_type\": \"\",\n        \"description\": \"\"\n      }\n    },\n    {\n      \"column\": \"szeroko\\u015b\\u0107\",\n      \"properties\": {\n        \"dtype\": \"number\",\n        \"std\": 35067.862468632076,\n        \"min\": 124.75382757723986,\n        \"max\": 100000.0,\n        \"num_unique_values\": 7,\n        \"samples\": [\n          100000.0,\n          847.24992,\n          960.0\n        ],\n        \"semantic_type\": \"\",\n        \"description\": \"\"\n      }\n    },\n    {\n      \"column\": \"szeroko\\u015b\\u0107_geo\",\n      \"properties\": {\n        \"dtype\": \"number\",\n        \"std\": 35345.511413913606,\n        \"min\": -32.6166977,\n        \"max\": 100000.0,\n        \"num_unique_values\": 8,\n        \"samples\": [\n          37.33587785716426,\n          52.208068594057,\n          100000.0\n        ],\n        \"semantic_type\": \"\",\n        \"description\": \"\"\n      }\n    },\n    {\n      \"column\": \"d\\u0142ugo\\u015b\\u0107\",\n      \"properties\": {\n        \"dtype\": \"number\",\n        \"std\": 35353.4255184565,\n        \"min\": -122.77853927,\n        \"max\": 100000.0,\n        \"num_unique_values\": 8,\n        \"samples\": [\n          12.024326928476805,\n          18.72257013,\n          100000.0\n        ],\n        \"semantic_type\": \"\",\n        \"description\": \"\"\n      }\n    },\n    {\n      \"column\": \"id_telefonu\",\n      \"properties\": {\n        \"dtype\": \"number\",\n        \"std\": 35305.63131390521,\n        \"min\": 1.0,\n        \"max\": 100000.0,\n        \"num_unique_values\": 8,\n        \"samples\": [\n          95.10898,\n          28.0,\n          100000.0\n        ],\n        \"semantic_type\": \"\",\n        \"description\": \"\"\n      }\n    }\n  ]\n}"
            }
          },
          "metadata": {},
          "execution_count": 60
        }
      ]
    },
    {
      "cell_type": "markdown",
      "source": [
        "Jak widać otrzymaliśmy w sumie 9 kolumn o nazwach:\n",
        "\n",
        "* precyzja - określe precyzje w metrach z jaką odczytano położenie detektora (telefonu),\n",
        "* wysokość oraz szerokość - wymiary matrycy w telefonie,\n",
        "* szerokość_geo oraz długość - współrzędne geograficzne telefonu w chwili detekcji,\n",
        "* czas - moment, w którym dokonano detekcji,\n",
        "* id_telefonu, id_użytkownika oraz id_zespołu - numery identyfikacyjne telefonu, użytkownika oraz zespołu"
      ],
      "metadata": {
        "id": "V4f080GDaQ_9"
      }
    },
    {
      "cell_type": "markdown",
      "source": [
        "Plik, który wcześniej pobraliście zawiera kilka funkcji, które pozwala wam filtrować dane w prosty sposób. Te funkcje to:\n",
        "* filter_by_date() - ta funkcja odfiltrowuje dane od początkowej daty do daty końcowej. W przypadku niepodania daty końcowej zbierane są dane tylko z dnia początkowego. Jako argumenty funkcja przyjmuje kolejno: dane, datę początkową i (opcjonalnie) datę końcową. **Wszystkie daty podajemy w formacie 'rok-miesiąc-dzień' np. '2017-12-18'**\n",
        "\n",
        "* funkcje pozwalające filtrować po\n",
        "  * dniach tygodnia - weekdays(). Funkcja jako argumenty przyjmuje dane oraz numery odpowiadające dniom tygodnia od 0 do 6. Jeśli chciałbym odfiltrować np. poniedziałki i wtorki zrobiłbym to w ten sposób `cf.weekdays(df, [0,1])`\n",
        "  * miesiącach - months(). Funkcja jako argumenty przyjmuje dane oraz numery miesięcy od 0 do 11. Jeśli chce mieć jedynie dane ze stycznia oraz grudnia to użyje `cf.months(df, [0,11])`\n",
        "  * latach - years(). Funkcja ta jako argumenty przyjmuje dane oraz rok. Jej użycie mogłoby wyglądać np. tak `cf.year(df, [2017])`\n",
        "  * użtkownikach - users(). Funkcja ta jako argumenty przyjmuje dane oraz nazwę użytkownika/użytkowników. Jej użycie mogłoby wyglądać np. tak `cf.users(df, ['user1', 'user2'])`\n",
        "  * zespołach - teams(). Funkcja ta jako argumenty przyjmuje dane oraz nazwę zespołu/zespołów. Jej użycie mogłoby wyglądać np. tak `cf.teams(df, ['team1', 'team2'])`\n",
        "  Oczywiście odfiltrowane dane trzeba zapisać do dataFramu. Polecam użyć nowej nazwy, ponieważ jeśli użyjemy tej samej nazwy to nadpiszemy nasz dataFrame przez co trzeba by odczytać dane z pliku na nowo. Dane po przefiltrowaniu zapisujemy w ten sposób `naza_nowego_dataFramu = wybrany przez nas filter`\n",
        "* zwizualizować nasze dane na mapie. Funkcja nazywa się show_on_map() i jako jedyny argument przyjmuje dateFrame. Używamy jej w ten sposób `show_on_map(df)`"
      ],
      "metadata": {
        "id": "FKALmlAcUV2Q"
      }
    },
    {
      "cell_type": "markdown",
      "source": [
        "Jako ćwiczenie wykonaj poniższe polecenia:\n",
        "* Odfiltruj dane dla kilku wybranych miesięcy\n",
        "* Odfiltruj nowo otrzymane dane dla wybranego użytkownika\n",
        "* Wykonaj histogram dla kolumny 'miesiąc'. Instrukcje jak tworzyć i edytować dane z dateFramu możesz znaleźć na tej stronie https://www.geeksforgeeks.org/pandas-dataframe-hist/\n",
        "* Stwórz mapę na podstawie twojego dataFramu"
      ],
      "metadata": {
        "id": "Q7_grB3FTFwz"
      }
    },
    {
      "cell_type": "code",
      "source": [
        "dc = cf.years(df, [2017])\n",
        "print(dc)"
      ],
      "metadata": {
        "colab": {
          "base_uri": "https://localhost:8080/"
        },
        "id": "pBf00LWLQzqc",
        "outputId": "5d61797a-cb0a-4c73-b1e5-1659bddcd9b9"
      },
      "execution_count": 64,
      "outputs": [
        {
          "output_type": "stream",
          "name": "stdout",
          "text": [
            "       precyzja  wysokość  szerokość  szerokość_geo    długość  \\\n",
            "0           0.0       480        800       0.000000   0.000000   \n",
            "1           0.0       480        800       0.000000   0.000000   \n",
            "2           0.0       480        800       0.000000   0.000000   \n",
            "3           0.0       480        800       0.000000   0.000000   \n",
            "4           0.0       480        800       0.000000   0.000000   \n",
            "...         ...       ...        ...            ...        ...   \n",
            "99995      32.0       450        800      50.825622  19.069317   \n",
            "99996      32.0       450        800      50.825622  19.069317   \n",
            "99997      32.0       450        800      50.825622  19.069317   \n",
            "99998      32.0       450        800      50.825622  19.069317   \n",
            "99999      32.0       450        800      50.825622  19.069317   \n",
            "\n",
            "                                  czas  id_telefonu id_użytkownika  \\\n",
            "0     2017-11-17 13:45:57.085000+01:00            1         Bartek   \n",
            "1     2017-11-17 13:45:57.285000+01:00            1         Bartek   \n",
            "2     2017-11-17 13:45:57.806000+01:00            1         Bartek   \n",
            "3     2017-11-17 13:45:58.126000+01:00            1         Bartek   \n",
            "4     2017-11-17 13:45:59.088000+01:00            1         Bartek   \n",
            "...                                ...          ...            ...   \n",
            "99995 2017-11-10 07:52:13.872000+01:00          623  Jacek_Gabryel   \n",
            "99996 2017-11-10 07:52:13.937000+01:00          623  Jacek_Gabryel   \n",
            "99997 2017-11-10 07:52:13.968000+01:00          623  Jacek_Gabryel   \n",
            "99998 2017-11-10 07:52:14.042000+01:00          623  Jacek_Gabryel   \n",
            "99999 2017-11-10 07:52:14.069000+01:00          623  Jacek_Gabryel   \n",
            "\n",
            "             id_zespołu   rok  \n",
            "0      Robert_Ostrowski  2017  \n",
            "1      Robert_Ostrowski  2017  \n",
            "2      Robert_Ostrowski  2017  \n",
            "3      Robert_Ostrowski  2017  \n",
            "4      Robert_Ostrowski  2017  \n",
            "...                 ...   ...  \n",
            "99995  Robert_Ostrowski  2017  \n",
            "99996  Robert_Ostrowski  2017  \n",
            "99997  Robert_Ostrowski  2017  \n",
            "99998  Robert_Ostrowski  2017  \n",
            "99999  Robert_Ostrowski  2017  \n",
            "\n",
            "[59219 rows x 10 columns]\n"
          ]
        }
      ]
    },
    {
      "cell_type": "code",
      "source": [
        "moth = cf.filter_by_date(df,'2017-12-18')\n",
        "print(moth)"
      ],
      "metadata": {
        "colab": {
          "base_uri": "https://localhost:8080/"
        },
        "id": "SNbE3S3yawgI",
        "outputId": "d51f2249-05e5-424c-d7cf-9660f5552671"
      },
      "execution_count": 9,
      "outputs": [
        {
          "output_type": "stream",
          "name": "stdout",
          "text": [
            "       precyzja  wysokość  szerokość  szerokość_geo    długość  \\\n",
            "13233       0.0       432        576       0.000000   0.000000   \n",
            "13234       0.0       432        576       0.000000   0.000000   \n",
            "48837       6.8       480        800      49.839760  19.950547   \n",
            "69243      12.0       768       1024      50.068675  19.915720   \n",
            "69244      12.0       768       1024      50.068675  19.915720   \n",
            "69245      12.0       768       1024      50.068675  19.915720   \n",
            "69246      12.0       768       1024      50.068675  19.915720   \n",
            "\n",
            "                                  czas  id_telefonu  id_użytkownika  \\\n",
            "13233 2017-12-18 08:55:50.630000+01:00            6              40   \n",
            "13234 2017-12-18 09:29:21.800000+01:00            6              40   \n",
            "48837 2017-12-18 01:31:12.428000+01:00           15              44   \n",
            "69243 2017-12-18 00:27:46.094000+01:00           79              77   \n",
            "69244 2017-12-18 01:53:51.431000+01:00           79              77   \n",
            "69245 2017-12-18 04:17:38.392000+01:00           79              77   \n",
            "69246 2017-12-18 04:50:50.357000+01:00           79              77   \n",
            "\n",
            "       id_zespołu  \n",
            "13233         133  \n",
            "13234         133  \n",
            "48837         133  \n",
            "69243         133  \n",
            "69244         133  \n",
            "69245         133  \n",
            "69246         133  \n"
          ]
        }
      ]
    },
    {
      "cell_type": "code",
      "source": [],
      "metadata": {
        "id": "DeyX8-TjDYZR"
      },
      "execution_count": null,
      "outputs": []
    }
  ],
  "metadata": {
    "kernelspec": {
      "display_name": "Python 3",
      "language": "python",
      "name": "python3"
    },
    "language_info": {
      "codemirror_mode": {
        "name": "ipython",
        "version": 3
      },
      "file_extension": ".py",
      "mimetype": "text/x-python",
      "name": "python",
      "nbconvert_exporter": "python",
      "pygments_lexer": "ipython3",
      "version": "3.11.9"
    },
    "colab": {
      "provenance": []
    }
  },
  "nbformat": 4,
  "nbformat_minor": 0
}