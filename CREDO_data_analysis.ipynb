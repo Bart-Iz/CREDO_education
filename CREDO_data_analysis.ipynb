{
  "cells": [
    {
      "cell_type": "markdown",
      "metadata": {
        "id": "S__Q8Nwq4_dF"
      },
      "source": [
        "# CREDO - wstęp do pracy z danymi\n",
        "\n",
        "## Czym jest CREDO?\n",
        "CREDO (Cosmic-Ray Extremely Distributed Observatory), czyli Skrajnie Rozproszone Obserwatorium Promieniowania Kosmicznego. To projekt zapoczątkowany przez polskich naukowców z Instytutu Fizyki Jądrowej PAN w Krakowie. Projekt ma na celu  wykorzystywanie telefonów oraz tabletów do stworzenia globalnej sieci detektorów promieniowania kosmicznego - cząstek pochodzących z kosmosu oraz powstałych na skutek ich interakcji z atmosferą.\n",
        "\n",
        "## Do czego służy ten notatnik?\n",
        "\n",
        "Komórki te zawierają teksty, które mają na celu wyjaśnienie, jakie kroki należy podjąć, przedstawienie realizowanego zadania oraz sformułowanie dodatkowych pytań.\n",
        "\n",
        "## Jak korzystać z tego notatnika?\n",
        "Poniżej znajdują się komórki, które dzielą się na dwa typy:\n",
        "* **zawierające kod w pythonie** - kod w tych komórkach trzeba zmodyfikować lub napisać prosty fragment kodu, a następnie skompilować wciskając `Shift+Enter`,\n",
        "* **zawierające tekst** - \"Komórki te zawierają teksty, które mają na celu wyjaśnienie, jakie kroki należy podjąć, przedstawienie realizowanego zadania oraz sformułowanie dodatkowych pytań."
      ]
    },
    {
      "cell_type": "markdown",
      "metadata": {
        "id": "a5fzDTu04_dH"
      },
      "source": [
        "Rozpocznijmy pracę z kodem. Pierwszym krokiem jest zaimportowanie bibliotek niezbędnych do pracy z danymi oraz ich wizualizacji. Biblioteki w programowaniu można traktować jako zestawy poleceń umożliwiających operowanie na danych. W tym przypadku wykorzystane zostaną następujące biblioteki:\n",
        "* pandas - służy do efektywnej pracy z danymi, oferując funkcje do ich analizy, manipulacji oraz strukturalizacji w formacie tabelarycznym,\n",
        "* json - biblioteka służąca do pracy z danymi w formacie JSON (JavaScript Object Notation), umożliwia ich odczyt, zapis oraz konwersję między formatem tekstowym a strukturami danych w Pythonie, takimi jak słowniki czy listy,\n",
        "* matplotlib.pyplot -  biblioteka przeznaczona do wizualizacji danych, pozwala tworzyć wykresy, histogramy oraz inne formy graficznej prezentacji danych,\n",
        "* plotly.express -  umożliwia tworzenie interaktywnych wizualizacji, takich jak mapy, wykresy i animacje, co ułatwia analizę danych w kontekście geograficznym.\n",
        "\n",
        "W kodzie poniżej importujemy bibliotekę w sposób umożliwiający nadanie jej skróconej nazwy, np. `import plotly.express as px`. Ta składnia oznacza: zaimportuj bibliotekę plotly.express i przypisz jej alias px, który będzie używany w dalszej części kodu.\n",
        "\n",
        "Jeśli podczas kompilacji kodu pojawi się błąd informujący o braku danej biblioteki, należy w komórce kodu wpisać polecenie `pip install *nazwa biblioteki*`, a następnie ponownie uruchomić kompilację."
      ]
    },
    {
      "cell_type": "code",
      "execution_count": 1,
      "metadata": {
        "id": "RzF7ezzy4_dH"
      },
      "outputs": [],
      "source": [
        "import pandas as pd\n",
        "import json\n",
        "import matplotlib.pyplot as plt"
      ]
    },
    {
      "cell_type": "markdown",
      "source": [
        "Za pomocą poniższej komórki można pobrać pliki zawierające funkcje przygotowane specjalnie do tej analizy. Następnie tworzona jest biblioteka na podstawie tego pliku."
      ],
      "metadata": {
        "id": "qd5m91QK6R9t"
      }
    },
    {
      "cell_type": "code",
      "source": [
        "!wget https://raw.githubusercontent.com/Bart-Iz/CRED_education/refs/heads/Beta/CREDO/CREDO_functions.py -P /content/CREDO -P /content/CREDO\n",
        "!wget https://raw.githubusercontent.com/Bart-Iz/CRED_education/refs/heads/Beta/CREDO/team_mapping.json -P /content/CREDO -P /content/CREDO\n",
        "!wget https://raw.githubusercontent.com/Bart-Iz/CRED_education/refs/heads/Beta/CREDO/user_mapping.json -P /content/CREDO -P /content/CREDO"
      ],
      "metadata": {
        "id": "40Pm7Uor6IxU"
      },
      "execution_count": null,
      "outputs": []
    },
    {
      "cell_type": "code",
      "source": [
        "import importlib\n",
        "import sys\n",
        "sys.path.append(\"/content/CREDO/\")\n",
        "\n",
        "import CREDO_functions as cf\n",
        "importlib.reload(cf)"
      ],
      "metadata": {
        "id": "s1VX6iNl68-U"
      },
      "execution_count": null,
      "outputs": []
    },
    {
      "cell_type": "markdown",
      "metadata": {
        "id": "Ph_1PabT4_dI"
      },
      "source": [
        "Po załadowaniu wymaganych bibliotek kolejnym krokiem jest wczytanie danych. Dane można pobrać bezpośrednio ze strony CREDO lub za pomocą tego linku:\n",
        "[Dane](https://drive.google.com/drive/folders/1r9JEmCsWh67AGbC_M4atY95YtNFjRT_q?usp=sharing)\n",
        "\n",
        "Aby pobrać dane ze strony Credo i co za tym idzie uzyskać pełny dostęp do danych, należy skorzystać z tego linku: https://api.credo.science/web/faq/\n",
        "Następnie postępować zgodnie z instrukcjami w punkcie 2. W przypadku pytań lub chęci skorzystania z pomocy w uzyskaniu danych można kontaktować się z helpdeskiem CREDO (pisząc na contact@credo.science)\n",
        "\n",
        "Pobrany plik należy załadować do notatnika Google Collaboratory, korzystając z opcji 'Prześlij do pamięci sesji' lub przeciągając plik bezpośrednio do interfejsu po lewej stronie ekranu. Do odczytu danych z pliku można użyć funkcji read_data z biblioteki CREDO_functions. Funkcja ta jako parametr przyjmuje ścieżkę do pliku z danymi i zwraca tabelę w formie DataFrame, oznaczoną w kodzie jako df. Dodatkowo funkcja usuwa zbędne dane i konwertuje czas z formatu UNIX na bardziej czytelny dla użytkownika format.\n",
        "\n",
        "Ten notatnik został stworzony do pracy z plikami znajdującymi się na dysku google oraz githubie. Jeżeli użytkownik chce załadować dane, którę pobrał sam to musi on również zamienić nazwy plików z mapami nazw zespołów oraz użytkowników (znajdują się w folderze CREDO) oraz zamienić ścieżkę do pliku w funkcji read_data()."
      ]
    },
    {
      "cell_type": "code",
      "execution_count": 12,
      "metadata": {
        "id": "h1OjHTyv4_dI"
      },
      "outputs": [],
      "source": [
        "df = cf.read_data('/content/export_credo.json')"
      ]
    },
    {
      "cell_type": "markdown",
      "source": [
        "## Od czego zacząć analizę?\n",
        "Pierwszym krokiem jaki musimy wykonać podczas pracy z danymi jest oczywiście dowiedzenie się z jakimi danymi właściwie pracujemy. Jedną z zalet obiektów typu dataFrame tworzonych przy użyciu biblioteki pandas jest to, że sortuje on nam dane na kolumny, które zawierają określone dane (np. czas albo długość i szerokość geograficzną) i każdy zestaw danych z jednego odczytu (pojedynczej detekcji) znajdują się w jednym wierszu.\n",
        "\n",
        "Aby lepiej zapoznać się z danymi, można skorzystać z następujących metod:\n",
        "1. .describe() – generuje statystyki opisowe dla każdej kolumny, takie jak liczba wierszy, średnia wartość czy odchylenie standardowe. W Google Colab można kliknąć ikonę wykresu obok tabeli, aby zobaczyć histogramy dla poszczególnych kolumn. Warto dodać, że ta metoda może nie wypisać nam wszystkich kolumn - wypisze jeydnie kolumny zawierające wartości liczbowe, a nie tekst lub datę. Przykład użycia: `df.describe()`\n",
        "\n",
        "2. .head(n) – wyświetla pierwsze n wierszy danych, co pozwala na szybki wgląd w strukturę danych. Alternatywnie można użyć funkcji print(). Przykład użycia: `df.head(5)` lub `print(df)`\n",
        "\n",
        "Zalecane jest sprawdzenie danych za pomocą obu metod, aby uzyskać pełniejszy obraz struktury danych oraz ich podstawowych właściwości."
      ],
      "metadata": {
        "id": "E7r_0SI_A6TD"
      }
    },
    {
      "cell_type": "code",
      "source": [],
      "metadata": {
        "id": "LOh58tPQDnaM"
      },
      "execution_count": null,
      "outputs": []
    },
    {
      "cell_type": "markdown",
      "source": [
        "Jak można zauważyć, dane zawierają łącznie **8 kolumn** o następujących nazwach:\n",
        "\n",
        "* **wysokość** oraz **szerokość** -  rozmiar klatki/zdjęcia syngału z detektora,\n",
        "* **szerokość_geo** oraz **długość_geo** - współrzędne geograficzne detektora w chwili detekcji,\n",
        "* **czas** - moment, w którym dokonano detekcji,\n",
        "* **id_urządzenia**, **id_użytkownika** oraz **id_zespołu** - numer identyfikacyjny urządzenia, nazwa użytkownika, który dokonał detekcji oraz zespołu, do którego należał."
      ],
      "metadata": {
        "id": "V4f080GDaQ_9"
      }
    },
    {
      "cell_type": "markdown",
      "source": [
        "Plik, który został wcześniej pobrany, zawiera kilka funkcji ułatwiających filtrowanie danych. Oto dostępne funkcje:\n",
        "\n",
        "1) filter_by_date() - Funkcja umożliwiająca filtrowanie danych w określonym przedziale czasowym od daty początkowej do daty końcowej. Jeśli data końcowa nie zostanie podana, funkcja zbierze dane tylko z dnia początkowego.\n",
        "  * Argumenty funkcji:\n",
        "    * dane (DataFrame z danymi)\n",
        "    * data początkowa\n",
        "    * opcjonalna data końcowa\n",
        "  * Format dat: 'rok-miesiąc-dzień', np. '2017-12-18'.\n",
        "\n",
        "2) Funkcje umożliwiające filtrowanie po innych kryteriach:\n",
        "  1. **Dni tygodnia - weekdays()**\n",
        "  Funkcja, która pozwala filtrować dane według dni tygodnia (od 0 do 6, gdzie 0 to poniedziałek, 6 to niedziela).\n",
        "    * Przykład użycia: Aby odfiltrować dane dla poniedziałków i wtorków: `cf.weekdays(df, [0, 1])`.\n",
        "  2. **Miesiące - months()**\n",
        "  Funkcja umożliwiająca filtrowanie danych według miesięcy (od 0 do 11, gdzie 0 to styczeń, 11 to grudzień).\n",
        "    * Przykład użycia: Aby uzyskać dane tylko ze stycznia i grudnia: `cf.months(df, [0, 11])`.\n",
        "  3. **Lata - years()**\n",
        "   Funkcja pozwalająca na filtrowanie danych dla konkretnego roku.\n",
        "    * Przykład użycia: Aby uzyskać dane z roku 2017: `cf.years(df, [2017])`\n",
        "  4. **Użytkownicy - users()**\n",
        "  Funkcja umożliwiająca filtrowanie danych dla określonych użytkowników.\n",
        "    * Przykład użycia: Aby uzyskać dane dla użytkowników user1 i user2: `cf.users(df, ['user1', 'user2'])`\n",
        "  5. **Zespoły - teams()**\n",
        "  Funkcja umożliwiająca filtrowanie danych według nazwy zespołów.\n",
        "    * Przykład użycia: Aby uzyskać dane dla zespołów team1 i team2: cf.teams(df, ['team1', 'team2'])\n",
        "  \n",
        " **Uwaga**: Odfiltrowane dane należy zapisać do nowej zmiennej typu DataFrame, aby uniknąć nadpisania oryginalnego obiektu. Jeśli użyjemy tej samej nazwy, stracimy oryginalne dane i konieczne będzie ponowne odczytanie pliku.\n",
        "**Przykład**: nowa_nazwa_df = wybrana_funkcja\n",
        "\n",
        "3) **Wizualizacja danych na mapie**\n",
        "Funkcja show_on_map() umożliwia wizualizację danych na mapie.\n",
        "  * **Argument**: Funkcja jako jedyny argument przyjmuje obiekt typu DataFrame.\n",
        "\n",
        "  * Przykład użycia: show_on_map(df)\n",
        "\n",
        "  Funkcja ta przedstawi dane na mapie z odpowiednim oznaczeniem lokalizacji oraz ilością zliczeń dla tego miejsca."
      ],
      "metadata": {
        "id": "FKALmlAcUV2Q"
      }
    },
    {
      "cell_type": "markdown",
      "source": [
        "**Ćwiczenie:**\n",
        "1. Odfiltrowanie danych dla kilku wybranych miesięcy.\n",
        "\n",
        "  Należy skorzystać z funkcji cf.months()i wybrać interesujące miesiące (np. styczeń, luty, marzec).\n",
        "\n",
        "2. Odfiltrowanie otrzymanych danych dla wybranego użytkownika.\n",
        "\n",
        "  Należy użyć funkcji cf.users() iwskazać jednego lub kilku użytkowników w celu zawężenia danych.\n",
        "\n",
        "3. Wykonanie histogramu dla kolumny 'miesiąc'.\n",
        "\n",
        "  Należy skorzystać z funkcji generowania histogramu w bibliotece pandas. Szczegółowe instrukcje dotyczące tworzenia i edycji danych z DataFrame można znaleźć na stronie: [Pandas Histograms](https://www.geeksforgeeks.org/pandas-dataframe-hist/).\n",
        "\n",
        "4. Stworzenie mapy na podstawie przefiltrowanego DataFrame.\n",
        "  \n",
        "  Należy wykorzystać funkcję show_on_map()do wizualizacji danych na mapie. Konieczne jest upewnienie się, że dane zawierają informacje o lokalizacji (np. szerokość i długość geograficzną)."
      ],
      "metadata": {
        "id": "Q7_grB3FTFwz"
      }
    },
    {
      "cell_type": "code",
      "source": [],
      "metadata": {
        "id": "O--z16aND_yF"
      },
      "execution_count": null,
      "outputs": []
    }
  ],
  "metadata": {
    "kernelspec": {
      "display_name": "Python 3",
      "language": "python",
      "name": "python3"
    },
    "language_info": {
      "codemirror_mode": {
        "name": "ipython",
        "version": 3
      },
      "file_extension": ".py",
      "mimetype": "text/x-python",
      "name": "python",
      "nbconvert_exporter": "python",
      "pygments_lexer": "ipython3",
      "version": "3.11.9"
    },
    "colab": {
      "provenance": []
    }
  },
  "nbformat": 4,
  "nbformat_minor": 0
}